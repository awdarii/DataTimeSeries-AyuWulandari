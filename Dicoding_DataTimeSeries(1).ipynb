{
  "nbformat": 4,
  "nbformat_minor": 0,
  "metadata": {
    "colab": {
      "name": "Dicoding_DataTimeSeries.ipynb",
      "provenance": []
    },
    "kernelspec": {
      "name": "python3",
      "display_name": "Python 3"
    },
    "language_info": {
      "name": "python"
    },
    "accelerator": "GPU"
  },
  "cells": [
    {
      "cell_type": "markdown",
      "metadata": {
        "id": "9WE0o6_W5ism"
      },
      "source": [
        "Nama: Ayu Wulandari\n",
        "\n",
        "\n",
        "Email: dari19556@gmail.com\n",
        "\n",
        "Tugas: Membuat Model Machine Learning dengan Data Time Series\n",
        "\n",
        "Kriteria Submission yang dibuat:\n",
        "\n",
        "1.   Dataset yang digunakan memiliki 18530 sampel\n",
        "2.   Menggunakan LSTM dalam arsitektur model\n",
        "3. Menggunakan model sequential\n",
        "4. Validation set sebesar 20% dari total data set\n",
        "5. Menggunakan Learning Rate pada Optimizer\n",
        "6. Mengimplementasikan callback\n",
        "\n"
      ]
    },
    {
      "cell_type": "markdown",
      "metadata": {
        "id": "wD99WUTYJbGx"
      },
      "source": [
        "# **Mempersiapkan Data**"
      ]
    },
    {
      "cell_type": "code",
      "metadata": {
        "colab": {
          "base_uri": "https://localhost:8080/"
        },
        "id": "jHfV97BF6bHF",
        "outputId": "b17f0f8a-2059-4cd7-b8da-83a1dc24f0bd"
      },
      "source": [
        "from google.colab import drive\n",
        "drive.mount('/content/drive')"
      ],
      "execution_count": 2,
      "outputs": [
        {
          "output_type": "stream",
          "text": [
            "Drive already mounted at /content/drive; to attempt to forcibly remount, call drive.mount(\"/content/drive\", force_remount=True).\n"
          ],
          "name": "stdout"
        }
      ]
    },
    {
      "cell_type": "markdown",
      "metadata": {
        "id": "zsc4KSm1Jtb8"
      },
      "source": [
        "# **Import Dataset**\n"
      ]
    },
    {
      "cell_type": "code",
      "metadata": {
        "colab": {
          "base_uri": "https://localhost:8080/",
          "height": 481
        },
        "id": "LjVFgAfQ70ZG",
        "outputId": "02069b3e-4b02-4356-cc52-810ccfd0297c"
      },
      "source": [
        "import pandas as pd\n",
        "data = pd.read_csv('/content/drive/My Drive/DataSet/city_temperature.csv')\n",
        "data"
      ],
      "execution_count": 3,
      "outputs": [
        {
          "output_type": "stream",
          "text": [
            "/usr/local/lib/python3.7/dist-packages/IPython/core/interactiveshell.py:2718: DtypeWarning: Columns (2) have mixed types.Specify dtype option on import or set low_memory=False.\n",
            "  interactivity=interactivity, compiler=compiler, result=result)\n"
          ],
          "name": "stderr"
        },
        {
          "output_type": "execute_result",
          "data": {
            "text/html": [
              "<div>\n",
              "<style scoped>\n",
              "    .dataframe tbody tr th:only-of-type {\n",
              "        vertical-align: middle;\n",
              "    }\n",
              "\n",
              "    .dataframe tbody tr th {\n",
              "        vertical-align: top;\n",
              "    }\n",
              "\n",
              "    .dataframe thead th {\n",
              "        text-align: right;\n",
              "    }\n",
              "</style>\n",
              "<table border=\"1\" class=\"dataframe\">\n",
              "  <thead>\n",
              "    <tr style=\"text-align: right;\">\n",
              "      <th></th>\n",
              "      <th>Region</th>\n",
              "      <th>Country</th>\n",
              "      <th>State</th>\n",
              "      <th>City</th>\n",
              "      <th>Month</th>\n",
              "      <th>Day</th>\n",
              "      <th>Year</th>\n",
              "      <th>AvgTemperature</th>\n",
              "    </tr>\n",
              "  </thead>\n",
              "  <tbody>\n",
              "    <tr>\n",
              "      <th>0</th>\n",
              "      <td>Africa</td>\n",
              "      <td>Algeria</td>\n",
              "      <td>NaN</td>\n",
              "      <td>Algiers</td>\n",
              "      <td>1</td>\n",
              "      <td>1</td>\n",
              "      <td>1995</td>\n",
              "      <td>64.2</td>\n",
              "    </tr>\n",
              "    <tr>\n",
              "      <th>1</th>\n",
              "      <td>Africa</td>\n",
              "      <td>Algeria</td>\n",
              "      <td>NaN</td>\n",
              "      <td>Algiers</td>\n",
              "      <td>1</td>\n",
              "      <td>2</td>\n",
              "      <td>1995</td>\n",
              "      <td>49.4</td>\n",
              "    </tr>\n",
              "    <tr>\n",
              "      <th>2</th>\n",
              "      <td>Africa</td>\n",
              "      <td>Algeria</td>\n",
              "      <td>NaN</td>\n",
              "      <td>Algiers</td>\n",
              "      <td>1</td>\n",
              "      <td>3</td>\n",
              "      <td>1995</td>\n",
              "      <td>48.8</td>\n",
              "    </tr>\n",
              "    <tr>\n",
              "      <th>3</th>\n",
              "      <td>Africa</td>\n",
              "      <td>Algeria</td>\n",
              "      <td>NaN</td>\n",
              "      <td>Algiers</td>\n",
              "      <td>1</td>\n",
              "      <td>4</td>\n",
              "      <td>1995</td>\n",
              "      <td>46.4</td>\n",
              "    </tr>\n",
              "    <tr>\n",
              "      <th>4</th>\n",
              "      <td>Africa</td>\n",
              "      <td>Algeria</td>\n",
              "      <td>NaN</td>\n",
              "      <td>Algiers</td>\n",
              "      <td>1</td>\n",
              "      <td>5</td>\n",
              "      <td>1995</td>\n",
              "      <td>47.9</td>\n",
              "    </tr>\n",
              "    <tr>\n",
              "      <th>...</th>\n",
              "      <td>...</td>\n",
              "      <td>...</td>\n",
              "      <td>...</td>\n",
              "      <td>...</td>\n",
              "      <td>...</td>\n",
              "      <td>...</td>\n",
              "      <td>...</td>\n",
              "      <td>...</td>\n",
              "    </tr>\n",
              "    <tr>\n",
              "      <th>2906322</th>\n",
              "      <td>North America</td>\n",
              "      <td>US</td>\n",
              "      <td>Additional Territories</td>\n",
              "      <td>San Juan Puerto Rico</td>\n",
              "      <td>7</td>\n",
              "      <td>27</td>\n",
              "      <td>2013</td>\n",
              "      <td>82.4</td>\n",
              "    </tr>\n",
              "    <tr>\n",
              "      <th>2906323</th>\n",
              "      <td>North America</td>\n",
              "      <td>US</td>\n",
              "      <td>Additional Territories</td>\n",
              "      <td>San Juan Puerto Rico</td>\n",
              "      <td>7</td>\n",
              "      <td>28</td>\n",
              "      <td>2013</td>\n",
              "      <td>81.6</td>\n",
              "    </tr>\n",
              "    <tr>\n",
              "      <th>2906324</th>\n",
              "      <td>North America</td>\n",
              "      <td>US</td>\n",
              "      <td>Additional Territories</td>\n",
              "      <td>San Juan Puerto Rico</td>\n",
              "      <td>7</td>\n",
              "      <td>29</td>\n",
              "      <td>2013</td>\n",
              "      <td>84.2</td>\n",
              "    </tr>\n",
              "    <tr>\n",
              "      <th>2906325</th>\n",
              "      <td>North America</td>\n",
              "      <td>US</td>\n",
              "      <td>Additional Territories</td>\n",
              "      <td>San Juan Puerto Rico</td>\n",
              "      <td>7</td>\n",
              "      <td>30</td>\n",
              "      <td>2013</td>\n",
              "      <td>83.8</td>\n",
              "    </tr>\n",
              "    <tr>\n",
              "      <th>2906326</th>\n",
              "      <td>North America</td>\n",
              "      <td>US</td>\n",
              "      <td>Additional Territories</td>\n",
              "      <td>San Juan Puerto Rico</td>\n",
              "      <td>7</td>\n",
              "      <td>31</td>\n",
              "      <td>2013</td>\n",
              "      <td>83.6</td>\n",
              "    </tr>\n",
              "  </tbody>\n",
              "</table>\n",
              "<p>2906327 rows × 8 columns</p>\n",
              "</div>"
            ],
            "text/plain": [
              "                Region  Country  ...  Year AvgTemperature\n",
              "0               Africa  Algeria  ...  1995           64.2\n",
              "1               Africa  Algeria  ...  1995           49.4\n",
              "2               Africa  Algeria  ...  1995           48.8\n",
              "3               Africa  Algeria  ...  1995           46.4\n",
              "4               Africa  Algeria  ...  1995           47.9\n",
              "...                ...      ...  ...   ...            ...\n",
              "2906322  North America       US  ...  2013           82.4\n",
              "2906323  North America       US  ...  2013           81.6\n",
              "2906324  North America       US  ...  2013           84.2\n",
              "2906325  North America       US  ...  2013           83.8\n",
              "2906326  North America       US  ...  2013           83.6\n",
              "\n",
              "[2906327 rows x 8 columns]"
            ]
          },
          "metadata": {
            "tags": []
          },
          "execution_count": 3
        }
      ]
    },
    {
      "cell_type": "markdown",
      "metadata": {
        "id": "p5xj76AFKhO3"
      },
      "source": [
        "Melihat Type Data dari Dataset"
      ]
    },
    {
      "cell_type": "code",
      "metadata": {
        "colab": {
          "base_uri": "https://localhost:8080/"
        },
        "id": "6eDXWFN7KkDp",
        "outputId": "96746784-d556-46a8-fad9-15dd07e08543"
      },
      "source": [
        "data.dtypes"
      ],
      "execution_count": 4,
      "outputs": [
        {
          "output_type": "execute_result",
          "data": {
            "text/plain": [
              "Region             object\n",
              "Country            object\n",
              "State              object\n",
              "City               object\n",
              "Month               int64\n",
              "Day                 int64\n",
              "Year                int64\n",
              "AvgTemperature    float64\n",
              "dtype: object"
            ]
          },
          "metadata": {
            "tags": []
          },
          "execution_count": 4
        }
      ]
    },
    {
      "cell_type": "code",
      "metadata": {
        "id": "704Hlm-qOdmW",
        "colab": {
          "base_uri": "https://localhost:8080/"
        },
        "outputId": "563b0cb3-ee6a-4d4c-a622-eb069d7ea754"
      },
      "source": [
        "data.memory_usage(deep='True')"
      ],
      "execution_count": 5,
      "outputs": [
        {
          "output_type": "execute_result",
          "data": {
            "text/plain": [
              "Index                   128\n",
              "Region            200858229\n",
              "Country           179884611\n",
              "State             141323998\n",
              "City              189912136\n",
              "Month              23250616\n",
              "Day                23250616\n",
              "Year               23250616\n",
              "AvgTemperature     23250616\n",
              "dtype: int64"
            ]
          },
          "metadata": {
            "tags": []
          },
          "execution_count": 5
        }
      ]
    },
    {
      "cell_type": "code",
      "metadata": {
        "colab": {
          "base_uri": "https://localhost:8080/"
        },
        "id": "9Oh8-a7LLIek",
        "outputId": "bfc90579-8178-4018-8d31-78d1ba1163ce"
      },
      "source": [
        "data.shape"
      ],
      "execution_count": 6,
      "outputs": [
        {
          "output_type": "execute_result",
          "data": {
            "text/plain": [
              "(2906327, 8)"
            ]
          },
          "metadata": {
            "tags": []
          },
          "execution_count": 6
        }
      ]
    },
    {
      "cell_type": "code",
      "metadata": {
        "colab": {
          "base_uri": "https://localhost:8080/"
        },
        "id": "osMGI269LLcE",
        "outputId": "e76d7e15-3fc7-4f07-a532-8ca1e1c40d9e"
      },
      "source": [
        "data.info()"
      ],
      "execution_count": 7,
      "outputs": [
        {
          "output_type": "stream",
          "text": [
            "<class 'pandas.core.frame.DataFrame'>\n",
            "RangeIndex: 2906327 entries, 0 to 2906326\n",
            "Data columns (total 8 columns):\n",
            " #   Column          Dtype  \n",
            "---  ------          -----  \n",
            " 0   Region          object \n",
            " 1   Country         object \n",
            " 2   State           object \n",
            " 3   City            object \n",
            " 4   Month           int64  \n",
            " 5   Day             int64  \n",
            " 6   Year            int64  \n",
            " 7   AvgTemperature  float64\n",
            "dtypes: float64(1), int64(3), object(4)\n",
            "memory usage: 177.4+ MB\n"
          ],
          "name": "stdout"
        }
      ]
    },
    {
      "cell_type": "code",
      "metadata": {
        "colab": {
          "base_uri": "https://localhost:8080/",
          "height": 300
        },
        "id": "GrCBaXGkLQEq",
        "outputId": "10a9c1e7-8f9c-4d82-f1aa-c0ffaece23d1"
      },
      "source": [
        "data.describe()"
      ],
      "execution_count": 8,
      "outputs": [
        {
          "output_type": "execute_result",
          "data": {
            "text/html": [
              "<div>\n",
              "<style scoped>\n",
              "    .dataframe tbody tr th:only-of-type {\n",
              "        vertical-align: middle;\n",
              "    }\n",
              "\n",
              "    .dataframe tbody tr th {\n",
              "        vertical-align: top;\n",
              "    }\n",
              "\n",
              "    .dataframe thead th {\n",
              "        text-align: right;\n",
              "    }\n",
              "</style>\n",
              "<table border=\"1\" class=\"dataframe\">\n",
              "  <thead>\n",
              "    <tr style=\"text-align: right;\">\n",
              "      <th></th>\n",
              "      <th>Month</th>\n",
              "      <th>Day</th>\n",
              "      <th>Year</th>\n",
              "      <th>AvgTemperature</th>\n",
              "    </tr>\n",
              "  </thead>\n",
              "  <tbody>\n",
              "    <tr>\n",
              "      <th>count</th>\n",
              "      <td>2.906327e+06</td>\n",
              "      <td>2.906327e+06</td>\n",
              "      <td>2.906327e+06</td>\n",
              "      <td>2.906327e+06</td>\n",
              "    </tr>\n",
              "    <tr>\n",
              "      <th>mean</th>\n",
              "      <td>6.469163e+00</td>\n",
              "      <td>1.571682e+01</td>\n",
              "      <td>2.006624e+03</td>\n",
              "      <td>5.600492e+01</td>\n",
              "    </tr>\n",
              "    <tr>\n",
              "      <th>std</th>\n",
              "      <td>3.456489e+00</td>\n",
              "      <td>8.800534e+00</td>\n",
              "      <td>2.338226e+01</td>\n",
              "      <td>3.212359e+01</td>\n",
              "    </tr>\n",
              "    <tr>\n",
              "      <th>min</th>\n",
              "      <td>1.000000e+00</td>\n",
              "      <td>0.000000e+00</td>\n",
              "      <td>2.000000e+02</td>\n",
              "      <td>-9.900000e+01</td>\n",
              "    </tr>\n",
              "    <tr>\n",
              "      <th>25%</th>\n",
              "      <td>3.000000e+00</td>\n",
              "      <td>8.000000e+00</td>\n",
              "      <td>2.001000e+03</td>\n",
              "      <td>4.580000e+01</td>\n",
              "    </tr>\n",
              "    <tr>\n",
              "      <th>50%</th>\n",
              "      <td>6.000000e+00</td>\n",
              "      <td>1.600000e+01</td>\n",
              "      <td>2.007000e+03</td>\n",
              "      <td>6.250000e+01</td>\n",
              "    </tr>\n",
              "    <tr>\n",
              "      <th>75%</th>\n",
              "      <td>9.000000e+00</td>\n",
              "      <td>2.300000e+01</td>\n",
              "      <td>2.013000e+03</td>\n",
              "      <td>7.550000e+01</td>\n",
              "    </tr>\n",
              "    <tr>\n",
              "      <th>max</th>\n",
              "      <td>1.200000e+01</td>\n",
              "      <td>3.100000e+01</td>\n",
              "      <td>2.020000e+03</td>\n",
              "      <td>1.100000e+02</td>\n",
              "    </tr>\n",
              "  </tbody>\n",
              "</table>\n",
              "</div>"
            ],
            "text/plain": [
              "              Month           Day          Year  AvgTemperature\n",
              "count  2.906327e+06  2.906327e+06  2.906327e+06    2.906327e+06\n",
              "mean   6.469163e+00  1.571682e+01  2.006624e+03    5.600492e+01\n",
              "std    3.456489e+00  8.800534e+00  2.338226e+01    3.212359e+01\n",
              "min    1.000000e+00  0.000000e+00  2.000000e+02   -9.900000e+01\n",
              "25%    3.000000e+00  8.000000e+00  2.001000e+03    4.580000e+01\n",
              "50%    6.000000e+00  1.600000e+01  2.007000e+03    6.250000e+01\n",
              "75%    9.000000e+00  2.300000e+01  2.013000e+03    7.550000e+01\n",
              "max    1.200000e+01  3.100000e+01  2.020000e+03    1.100000e+02"
            ]
          },
          "metadata": {
            "tags": []
          },
          "execution_count": 8
        }
      ]
    },
    {
      "cell_type": "markdown",
      "metadata": {
        "id": "qIOCNFUaLZGH"
      },
      "source": [
        "# **Melihat data yang hilang**"
      ]
    },
    {
      "cell_type": "code",
      "metadata": {
        "colab": {
          "base_uri": "https://localhost:8080/"
        },
        "id": "Sw41Wog6LdA5",
        "outputId": "8a5670fa-0cce-40b4-ac6d-a07dd2986adc"
      },
      "source": [
        "data.isnull().sum()"
      ],
      "execution_count": 9,
      "outputs": [
        {
          "output_type": "execute_result",
          "data": {
            "text/plain": [
              "Region                  0\n",
              "Country                 0\n",
              "State             1450990\n",
              "City                    0\n",
              "Month                   0\n",
              "Day                     0\n",
              "Year                    0\n",
              "AvgTemperature          0\n",
              "dtype: int64"
            ]
          },
          "metadata": {
            "tags": []
          },
          "execution_count": 9
        }
      ]
    },
    {
      "cell_type": "code",
      "metadata": {
        "id": "4BnUBNWFae9W",
        "colab": {
          "base_uri": "https://localhost:8080/"
        },
        "outputId": "2be103be-5325-4d79-d52c-feb917647621"
      },
      "source": [
        "data['City'].value_counts()"
      ],
      "execution_count": 10,
      "outputs": [
        {
          "output_type": "execute_result",
          "data": {
            "text/plain": [
              "Washington DC    18530\n",
              "Columbus         18530\n",
              "Springfield      18530\n",
              "Washington       18530\n",
              "Portland         18530\n",
              "                 ...  \n",
              "Frankfurt         4136\n",
              "Flagstaff         3574\n",
              "Pristina          3427\n",
              "Yerevan           3226\n",
              "Bonn              3133\n",
              "Name: City, Length: 321, dtype: int64"
            ]
          },
          "metadata": {
            "tags": []
          },
          "execution_count": 10
        }
      ]
    },
    {
      "cell_type": "code",
      "metadata": {
        "colab": {
          "base_uri": "https://localhost:8080/",
          "height": 424
        },
        "id": "L6sjCYmd29HQ",
        "outputId": "c4f327d0-e5b2-4f09-b9ca-b143e5983210"
      },
      "source": [
        "##Saya ingin mengembangkan model waktu untuk satu kota. \n",
        "##Untuk tujuan ini, saya mengambil City Columbus\n",
        "\n",
        "colum = data[data[\"City\"] == \"Columbus\"]\n",
        "colum"
      ],
      "execution_count": 11,
      "outputs": [
        {
          "output_type": "execute_result",
          "data": {
            "text/html": [
              "<div>\n",
              "<style scoped>\n",
              "    .dataframe tbody tr th:only-of-type {\n",
              "        vertical-align: middle;\n",
              "    }\n",
              "\n",
              "    .dataframe tbody tr th {\n",
              "        vertical-align: top;\n",
              "    }\n",
              "\n",
              "    .dataframe thead th {\n",
              "        text-align: right;\n",
              "    }\n",
              "</style>\n",
              "<table border=\"1\" class=\"dataframe\">\n",
              "  <thead>\n",
              "    <tr style=\"text-align: right;\">\n",
              "      <th></th>\n",
              "      <th>Region</th>\n",
              "      <th>Country</th>\n",
              "      <th>State</th>\n",
              "      <th>City</th>\n",
              "      <th>Month</th>\n",
              "      <th>Day</th>\n",
              "      <th>Year</th>\n",
              "      <th>AvgTemperature</th>\n",
              "    </tr>\n",
              "  </thead>\n",
              "  <tbody>\n",
              "    <tr>\n",
              "      <th>1776191</th>\n",
              "      <td>North America</td>\n",
              "      <td>US</td>\n",
              "      <td>Georgia</td>\n",
              "      <td>Columbus</td>\n",
              "      <td>1</td>\n",
              "      <td>1</td>\n",
              "      <td>1995</td>\n",
              "      <td>49.8</td>\n",
              "    </tr>\n",
              "    <tr>\n",
              "      <th>1776192</th>\n",
              "      <td>North America</td>\n",
              "      <td>US</td>\n",
              "      <td>Georgia</td>\n",
              "      <td>Columbus</td>\n",
              "      <td>1</td>\n",
              "      <td>2</td>\n",
              "      <td>1995</td>\n",
              "      <td>46.0</td>\n",
              "    </tr>\n",
              "    <tr>\n",
              "      <th>1776193</th>\n",
              "      <td>North America</td>\n",
              "      <td>US</td>\n",
              "      <td>Georgia</td>\n",
              "      <td>Columbus</td>\n",
              "      <td>1</td>\n",
              "      <td>3</td>\n",
              "      <td>1995</td>\n",
              "      <td>39.9</td>\n",
              "    </tr>\n",
              "    <tr>\n",
              "      <th>1776194</th>\n",
              "      <td>North America</td>\n",
              "      <td>US</td>\n",
              "      <td>Georgia</td>\n",
              "      <td>Columbus</td>\n",
              "      <td>1</td>\n",
              "      <td>4</td>\n",
              "      <td>1995</td>\n",
              "      <td>40.2</td>\n",
              "    </tr>\n",
              "    <tr>\n",
              "      <th>1776195</th>\n",
              "      <td>North America</td>\n",
              "      <td>US</td>\n",
              "      <td>Georgia</td>\n",
              "      <td>Columbus</td>\n",
              "      <td>1</td>\n",
              "      <td>5</td>\n",
              "      <td>1995</td>\n",
              "      <td>32.7</td>\n",
              "    </tr>\n",
              "    <tr>\n",
              "      <th>...</th>\n",
              "      <td>...</td>\n",
              "      <td>...</td>\n",
              "      <td>...</td>\n",
              "      <td>...</td>\n",
              "      <td>...</td>\n",
              "      <td>...</td>\n",
              "      <td>...</td>\n",
              "      <td>...</td>\n",
              "    </tr>\n",
              "    <tr>\n",
              "      <th>2412003</th>\n",
              "      <td>North America</td>\n",
              "      <td>US</td>\n",
              "      <td>Ohio</td>\n",
              "      <td>Columbus</td>\n",
              "      <td>5</td>\n",
              "      <td>9</td>\n",
              "      <td>2020</td>\n",
              "      <td>38.7</td>\n",
              "    </tr>\n",
              "    <tr>\n",
              "      <th>2412004</th>\n",
              "      <td>North America</td>\n",
              "      <td>US</td>\n",
              "      <td>Ohio</td>\n",
              "      <td>Columbus</td>\n",
              "      <td>5</td>\n",
              "      <td>10</td>\n",
              "      <td>2020</td>\n",
              "      <td>47.0</td>\n",
              "    </tr>\n",
              "    <tr>\n",
              "      <th>2412005</th>\n",
              "      <td>North America</td>\n",
              "      <td>US</td>\n",
              "      <td>Ohio</td>\n",
              "      <td>Columbus</td>\n",
              "      <td>5</td>\n",
              "      <td>11</td>\n",
              "      <td>2020</td>\n",
              "      <td>42.3</td>\n",
              "    </tr>\n",
              "    <tr>\n",
              "      <th>2412006</th>\n",
              "      <td>North America</td>\n",
              "      <td>US</td>\n",
              "      <td>Ohio</td>\n",
              "      <td>Columbus</td>\n",
              "      <td>5</td>\n",
              "      <td>12</td>\n",
              "      <td>2020</td>\n",
              "      <td>45.4</td>\n",
              "    </tr>\n",
              "    <tr>\n",
              "      <th>2412007</th>\n",
              "      <td>North America</td>\n",
              "      <td>US</td>\n",
              "      <td>Ohio</td>\n",
              "      <td>Columbus</td>\n",
              "      <td>5</td>\n",
              "      <td>13</td>\n",
              "      <td>2020</td>\n",
              "      <td>46.7</td>\n",
              "    </tr>\n",
              "  </tbody>\n",
              "</table>\n",
              "<p>18530 rows × 8 columns</p>\n",
              "</div>"
            ],
            "text/plain": [
              "                Region Country    State  ... Day  Year  AvgTemperature\n",
              "1776191  North America      US  Georgia  ...   1  1995            49.8\n",
              "1776192  North America      US  Georgia  ...   2  1995            46.0\n",
              "1776193  North America      US  Georgia  ...   3  1995            39.9\n",
              "1776194  North America      US  Georgia  ...   4  1995            40.2\n",
              "1776195  North America      US  Georgia  ...   5  1995            32.7\n",
              "...                ...     ...      ...  ...  ..   ...             ...\n",
              "2412003  North America      US     Ohio  ...   9  2020            38.7\n",
              "2412004  North America      US     Ohio  ...  10  2020            47.0\n",
              "2412005  North America      US     Ohio  ...  11  2020            42.3\n",
              "2412006  North America      US     Ohio  ...  12  2020            45.4\n",
              "2412007  North America      US     Ohio  ...  13  2020            46.7\n",
              "\n",
              "[18530 rows x 8 columns]"
            ]
          },
          "metadata": {
            "tags": []
          },
          "execution_count": 11
        }
      ]
    },
    {
      "cell_type": "code",
      "metadata": {
        "colab": {
          "base_uri": "https://localhost:8080/"
        },
        "id": "UIIUUr90a9lH",
        "outputId": "01d50648-a0f8-424c-c610-e1ed5c130ea8"
      },
      "source": [
        "colum[\"Year\"].value_counts()"
      ],
      "execution_count": 12,
      "outputs": [
        {
          "output_type": "execute_result",
          "data": {
            "text/plain": [
              "2000    732\n",
              "2016    732\n",
              "2012    732\n",
              "1996    732\n",
              "2004    732\n",
              "2008    732\n",
              "2006    730\n",
              "2001    730\n",
              "2017    730\n",
              "2002    730\n",
              "2018    730\n",
              "2003    730\n",
              "2019    730\n",
              "2005    730\n",
              "2015    730\n",
              "1999    730\n",
              "2009    730\n",
              "2010    730\n",
              "1995    730\n",
              "2011    730\n",
              "1997    730\n",
              "2013    730\n",
              "1998    730\n",
              "2014    730\n",
              "2007    730\n",
              "2020    268\n",
              "Name: Year, dtype: int64"
            ]
          },
          "metadata": {
            "tags": []
          },
          "execution_count": 12
        }
      ]
    },
    {
      "cell_type": "code",
      "metadata": {
        "id": "TH7XH-P5Kcw3"
      },
      "source": [
        "import matplotlib.pyplot as plt\n",
        "import numpy as np\n",
        "import pandas as pd\n",
        "pd.set_option('display.max_rows', 20)\n",
        "\n",
        "import tensorflow as tf\n",
        "\n",
        "import warnings\n",
        "warnings.filterwarnings('ignore')"
      ],
      "execution_count": 13,
      "outputs": []
    },
    {
      "cell_type": "code",
      "metadata": {
        "id": "YjxJzn4lbDr6",
        "colab": {
          "base_uri": "https://localhost:8080/"
        },
        "outputId": "b0b72f4f-4a36-4cb2-bb35-efdf9972c5c9"
      },
      "source": [
        "colum[\"AvgTemperature\"] = np.where(colum[\"AvgTemperature\"] == -99,\n",
        "                                   np.nan, colum[\"AvgTemperature\"])\n",
        "colum.isnull().sum()"
      ],
      "execution_count": 14,
      "outputs": [
        {
          "output_type": "execute_result",
          "data": {
            "text/plain": [
              "Region             0\n",
              "Country            0\n",
              "State              0\n",
              "City               0\n",
              "Month              0\n",
              "Day                0\n",
              "Year               0\n",
              "AvgTemperature    58\n",
              "dtype: int64"
            ]
          },
          "metadata": {
            "tags": []
          },
          "execution_count": 14
        }
      ]
    },
    {
      "cell_type": "code",
      "metadata": {
        "colab": {
          "base_uri": "https://localhost:8080/"
        },
        "id": "6m4fDOEU6XDV",
        "outputId": "260ee340-b0b8-4e61-93e9-be31fad320a7"
      },
      "source": [
        "colum[\"AvgTemperature\"] = colum[\"AvgTemperature\"].ffill()\n",
        "colum.isnull().sum()"
      ],
      "execution_count": 15,
      "outputs": [
        {
          "output_type": "execute_result",
          "data": {
            "text/plain": [
              "Region            0\n",
              "Country           0\n",
              "State             0\n",
              "City              0\n",
              "Month             0\n",
              "Day               0\n",
              "Year              0\n",
              "AvgTemperature    0\n",
              "dtype: int64"
            ]
          },
          "metadata": {
            "tags": []
          },
          "execution_count": 15
        }
      ]
    },
    {
      "cell_type": "code",
      "metadata": {
        "colab": {
          "base_uri": "https://localhost:8080/",
          "height": 424
        },
        "id": "o_IRiuRQ6jBV",
        "outputId": "a4460173-aec6-4815-99c7-0378155cc69a"
      },
      "source": [
        "colum.dtypes\n",
        "colum[\"Time_steps\"] = pd.to_datetime((colum.Year*10000 + colum.Month*100 + colum.Day).apply(str),\n",
        "                                     format='%Y%m%d')\n",
        "colum"
      ],
      "execution_count": 16,
      "outputs": [
        {
          "output_type": "execute_result",
          "data": {
            "text/html": [
              "<div>\n",
              "<style scoped>\n",
              "    .dataframe tbody tr th:only-of-type {\n",
              "        vertical-align: middle;\n",
              "    }\n",
              "\n",
              "    .dataframe tbody tr th {\n",
              "        vertical-align: top;\n",
              "    }\n",
              "\n",
              "    .dataframe thead th {\n",
              "        text-align: right;\n",
              "    }\n",
              "</style>\n",
              "<table border=\"1\" class=\"dataframe\">\n",
              "  <thead>\n",
              "    <tr style=\"text-align: right;\">\n",
              "      <th></th>\n",
              "      <th>Region</th>\n",
              "      <th>Country</th>\n",
              "      <th>State</th>\n",
              "      <th>City</th>\n",
              "      <th>Month</th>\n",
              "      <th>Day</th>\n",
              "      <th>Year</th>\n",
              "      <th>AvgTemperature</th>\n",
              "      <th>Time_steps</th>\n",
              "    </tr>\n",
              "  </thead>\n",
              "  <tbody>\n",
              "    <tr>\n",
              "      <th>1776191</th>\n",
              "      <td>North America</td>\n",
              "      <td>US</td>\n",
              "      <td>Georgia</td>\n",
              "      <td>Columbus</td>\n",
              "      <td>1</td>\n",
              "      <td>1</td>\n",
              "      <td>1995</td>\n",
              "      <td>49.8</td>\n",
              "      <td>1995-01-01</td>\n",
              "    </tr>\n",
              "    <tr>\n",
              "      <th>1776192</th>\n",
              "      <td>North America</td>\n",
              "      <td>US</td>\n",
              "      <td>Georgia</td>\n",
              "      <td>Columbus</td>\n",
              "      <td>1</td>\n",
              "      <td>2</td>\n",
              "      <td>1995</td>\n",
              "      <td>46.0</td>\n",
              "      <td>1995-01-02</td>\n",
              "    </tr>\n",
              "    <tr>\n",
              "      <th>1776193</th>\n",
              "      <td>North America</td>\n",
              "      <td>US</td>\n",
              "      <td>Georgia</td>\n",
              "      <td>Columbus</td>\n",
              "      <td>1</td>\n",
              "      <td>3</td>\n",
              "      <td>1995</td>\n",
              "      <td>39.9</td>\n",
              "      <td>1995-01-03</td>\n",
              "    </tr>\n",
              "    <tr>\n",
              "      <th>1776194</th>\n",
              "      <td>North America</td>\n",
              "      <td>US</td>\n",
              "      <td>Georgia</td>\n",
              "      <td>Columbus</td>\n",
              "      <td>1</td>\n",
              "      <td>4</td>\n",
              "      <td>1995</td>\n",
              "      <td>40.2</td>\n",
              "      <td>1995-01-04</td>\n",
              "    </tr>\n",
              "    <tr>\n",
              "      <th>1776195</th>\n",
              "      <td>North America</td>\n",
              "      <td>US</td>\n",
              "      <td>Georgia</td>\n",
              "      <td>Columbus</td>\n",
              "      <td>1</td>\n",
              "      <td>5</td>\n",
              "      <td>1995</td>\n",
              "      <td>32.7</td>\n",
              "      <td>1995-01-05</td>\n",
              "    </tr>\n",
              "    <tr>\n",
              "      <th>...</th>\n",
              "      <td>...</td>\n",
              "      <td>...</td>\n",
              "      <td>...</td>\n",
              "      <td>...</td>\n",
              "      <td>...</td>\n",
              "      <td>...</td>\n",
              "      <td>...</td>\n",
              "      <td>...</td>\n",
              "      <td>...</td>\n",
              "    </tr>\n",
              "    <tr>\n",
              "      <th>2412003</th>\n",
              "      <td>North America</td>\n",
              "      <td>US</td>\n",
              "      <td>Ohio</td>\n",
              "      <td>Columbus</td>\n",
              "      <td>5</td>\n",
              "      <td>9</td>\n",
              "      <td>2020</td>\n",
              "      <td>38.7</td>\n",
              "      <td>2020-05-09</td>\n",
              "    </tr>\n",
              "    <tr>\n",
              "      <th>2412004</th>\n",
              "      <td>North America</td>\n",
              "      <td>US</td>\n",
              "      <td>Ohio</td>\n",
              "      <td>Columbus</td>\n",
              "      <td>5</td>\n",
              "      <td>10</td>\n",
              "      <td>2020</td>\n",
              "      <td>47.0</td>\n",
              "      <td>2020-05-10</td>\n",
              "    </tr>\n",
              "    <tr>\n",
              "      <th>2412005</th>\n",
              "      <td>North America</td>\n",
              "      <td>US</td>\n",
              "      <td>Ohio</td>\n",
              "      <td>Columbus</td>\n",
              "      <td>5</td>\n",
              "      <td>11</td>\n",
              "      <td>2020</td>\n",
              "      <td>42.3</td>\n",
              "      <td>2020-05-11</td>\n",
              "    </tr>\n",
              "    <tr>\n",
              "      <th>2412006</th>\n",
              "      <td>North America</td>\n",
              "      <td>US</td>\n",
              "      <td>Ohio</td>\n",
              "      <td>Columbus</td>\n",
              "      <td>5</td>\n",
              "      <td>12</td>\n",
              "      <td>2020</td>\n",
              "      <td>45.4</td>\n",
              "      <td>2020-05-12</td>\n",
              "    </tr>\n",
              "    <tr>\n",
              "      <th>2412007</th>\n",
              "      <td>North America</td>\n",
              "      <td>US</td>\n",
              "      <td>Ohio</td>\n",
              "      <td>Columbus</td>\n",
              "      <td>5</td>\n",
              "      <td>13</td>\n",
              "      <td>2020</td>\n",
              "      <td>46.7</td>\n",
              "      <td>2020-05-13</td>\n",
              "    </tr>\n",
              "  </tbody>\n",
              "</table>\n",
              "<p>18530 rows × 9 columns</p>\n",
              "</div>"
            ],
            "text/plain": [
              "                Region Country    State  ...  Year  AvgTemperature  Time_steps\n",
              "1776191  North America      US  Georgia  ...  1995            49.8  1995-01-01\n",
              "1776192  North America      US  Georgia  ...  1995            46.0  1995-01-02\n",
              "1776193  North America      US  Georgia  ...  1995            39.9  1995-01-03\n",
              "1776194  North America      US  Georgia  ...  1995            40.2  1995-01-04\n",
              "1776195  North America      US  Georgia  ...  1995            32.7  1995-01-05\n",
              "...                ...     ...      ...  ...   ...             ...         ...\n",
              "2412003  North America      US     Ohio  ...  2020            38.7  2020-05-09\n",
              "2412004  North America      US     Ohio  ...  2020            47.0  2020-05-10\n",
              "2412005  North America      US     Ohio  ...  2020            42.3  2020-05-11\n",
              "2412006  North America      US     Ohio  ...  2020            45.4  2020-05-12\n",
              "2412007  North America      US     Ohio  ...  2020            46.7  2020-05-13\n",
              "\n",
              "[18530 rows x 9 columns]"
            ]
          },
          "metadata": {
            "tags": []
          },
          "execution_count": 16
        }
      ]
    },
    {
      "cell_type": "code",
      "metadata": {
        "id": "ONczomQE7HP-"
      },
      "source": [
        "def plot_series(time, series, format=\"-\", start=0, end=None):\n",
        "    \"\"\"to plot the series\"\"\"\n",
        "    plt.plot(time[start:end], series[start:end], format)\n",
        "    plt.xlabel(\"Year\")\n",
        "    plt.ylabel(\"Temprature\")\n",
        "    plt.grid(True)"
      ],
      "execution_count": 17,
      "outputs": []
    },
    {
      "cell_type": "code",
      "metadata": {
        "colab": {
          "base_uri": "https://localhost:8080/",
          "height": 388
        },
        "id": "NIj-W4XW7OdO",
        "outputId": "9d5e4a35-fc40-49b2-bb14-b13259f79767"
      },
      "source": [
        "time_step = colum[\"Time_steps\"].tolist()\n",
        "temprature = colum[\"AvgTemperature\"].tolist()\n",
        "\n",
        "series = np.array(temprature)\n",
        "time = np.array(time_step)\n",
        "plt.figure(figsize=(10, 6))\n",
        "plot_series(time, series)"
      ],
      "execution_count": 18,
      "outputs": [
        {
          "output_type": "display_data",
          "data": {
            "image/png": "[encoded data removed]",
            "text/plain": [
              "<Figure size 720x432 with 1 Axes>"
            ]
          },
          "metadata": {
            "tags": [],
            "needs_background": "light"
          }
        }
      ]
    },
    {
      "cell_type": "code",
      "metadata": {
        "colab": {
          "base_uri": "https://localhost:8080/",
          "height": 388
        },
        "id": "Uxdq23xC7ccz",
        "outputId": "b7d2ae44-1794-4651-c4fe-44309cdf511e"
      },
      "source": [
        "plt.figure(figsize=(10, 6))\n",
        "plot_series(time[-365:], series[-365:])"
      ],
      "execution_count": 19,
      "outputs": [
        {
          "output_type": "display_data",
          "data": {
            "image/png": "[encoded data removed]",
            "text/plain": [
              "<Figure size 720x432 with 1 Axes>"
            ]
          },
          "metadata": {
            "tags": [],
            "needs_background": "light"
          }
        }
      ]
    },
    {
      "cell_type": "code",
      "metadata": {
        "id": "J0o9TrIX7ef1"
      },
      "source": [
        "##Total dataset untuk kota Columbus ada 18530 dataset\n",
        "##Saya mengambil 14800 dataset untuk training (80%) dan 20% untuk validasi\n",
        "\n",
        "split_time = 14800\n",
        "time_train = time[:split_time]\n",
        "x_train = series[:split_time]\n",
        "time_valid = time[split_time:]\n",
        "x_valid = series[split_time:]"
      ],
      "execution_count": 20,
      "outputs": []
    },
    {
      "cell_type": "code",
      "metadata": {
        "id": "3o7ycCZq8pzK"
      },
      "source": [
        "def windowed_dataset(series, window_size, batch_size, \n",
        "                     shuffle_buffer):\n",
        "    series = tf.expand_dims(series, axis=-1)\n",
        "    ds = tf.data.Dataset.from_tensor_slices(series)\n",
        "    ds = ds.window(window_size + 1, shift=1, drop_remainder=True)\n",
        "    ds = ds.flat_map(lambda w: w.batch(window_size + 1))\n",
        "    ds = ds.shuffle(shuffle_buffer)\n",
        "    ds = ds.map(lambda w: (w[:-1], w[1:]))\n",
        "    return ds.batch(batch_size).prefetch(1)"
      ],
      "execution_count": 21,
      "outputs": []
    },
    {
      "cell_type": "code",
      "metadata": {
        "id": "oa8h8v5G8t8o"
      },
      "source": [
        "def model_forecast(model, series, window_size):\n",
        "    ds = tf.data.Dataset.from_tensor_slices(series)\n",
        "    ds = ds.window(window_size, shift=1, drop_remainder=True)\n",
        "    ds = ds.flat_map(lambda w: w.batch(window_size))\n",
        "    ds = ds.batch(32).prefetch(1)\n",
        "    forecast = model.predict(ds)\n",
        "    return forecast"
      ],
      "execution_count": 22,
      "outputs": []
    },
    {
      "cell_type": "code",
      "metadata": {
        "colab": {
          "base_uri": "https://localhost:8080/"
        },
        "id": "IKGqb4oE82dc",
        "outputId": "e9fc2cd5-ed0e-4e25-fd74-c7e79f46b49e"
      },
      "source": [
        "import tensorflow as tf\n",
        "print(tf.__version__)\n",
        "\n",
        "tf.keras.backend.clear_session()\n",
        "tf.random.set_seed(51)\n",
        "np.random.seed(51)\n",
        "\n",
        "shuffle_buffer_size = 1000\n",
        "window_size = 60\n",
        "batch_size = 128\n",
        "\n",
        "\n",
        "train_set = windowed_dataset(x_train, window_size, batch_size, \n",
        "                             shuffle_buffer_size)\n",
        "print(train_set)\n",
        "print(x_train.shape)"
      ],
      "execution_count": 23,
      "outputs": [
        {
          "output_type": "stream",
          "text": [
            "2.5.0\n",
            "<PrefetchDataset shapes: ((None, None, 1), (None, None, 1)), types: (tf.float64, tf.float64)>\n",
            "(14800,)\n"
          ],
          "name": "stdout"
        }
      ]
    },
    {
      "cell_type": "code",
      "metadata": {
        "id": "ZW7L9G98NRb6"
      },
      "source": [
        "class my_allback(tf.keras.callbacks.Callback):\n",
        "    def on_epoch_end(self, epoch, logs={}):\n",
        "        if(logs.get('mae') < 0.1):\n",
        "            print(\"MAE has reached below 10%\")\n",
        "\n",
        "    def on_train_end(self, epoch, logs={}):\n",
        "        print('Done')\n",
        "\n",
        "callbacks = my_allback()"
      ],
      "execution_count": 24,
      "outputs": []
    },
    {
      "cell_type": "code",
      "metadata": {
        "id": "gPZusWEQ9KC1"
      },
      "source": [
        "optimizer = tf.keras.optimizers.SGD(lr=1e-8, momentum=0.9)\n",
        "loss = tf.keras.losses.Huber()"
      ],
      "execution_count": 25,
      "outputs": []
    },
    {
      "cell_type": "code",
      "metadata": {
        "id": "cWdkLj689Wyc"
      },
      "source": [
        "tf.keras.backend.clear_session()\n",
        "tf.random.set_seed(51)\n",
        "np.random.seed(51)\n",
        "train_set = windowed_dataset(x_train, window_size=64, batch_size=100, \n",
        "                             shuffle_buffer=shuffle_buffer_size)\n",
        "model = tf.keras.models.Sequential([\n",
        "  tf.keras.layers.Conv1D(filters=32, kernel_size=5,\n",
        "                      strides=1, padding=\"causal\",\n",
        "                      activation=\"relu\",\n",
        "                      input_shape=[None, 1]),\n",
        "  tf.keras.layers.LSTM(128, return_sequences=True),\n",
        "  tf.keras.layers.LSTM(64, return_sequences=True),\n",
        "  tf.keras.layers.LSTM(32, return_sequences=True),\n",
        "  tf.keras.layers.Dropout(rate=0.2),\n",
        "  tf.keras.layers.Dense(32, activation=\"relu\"),\n",
        "  tf.keras.layers.Dense(16, activation=\"relu\"),\n",
        "  tf.keras.layers.Dense(1),\n",
        "  tf.keras.layers.Lambda(lambda x: x * 400)\n",
        "])"
      ],
      "execution_count": 29,
      "outputs": []
    },
    {
      "cell_type": "code",
      "metadata": {
        "id": "kqROvY3L9aCO"
      },
      "source": [
        "model.compile(loss=tf.keras.losses.Huber(),\n",
        "              optimizer=optimizer,\n",
        "              metrics=[\"mae\"])"
      ],
      "execution_count": 44,
      "outputs": []
    },
    {
      "cell_type": "code",
      "metadata": {
        "colab": {
          "base_uri": "https://localhost:8080/"
        },
        "id": "MnV-gjDU9cFA",
        "outputId": "ec6c96de-bacd-4404-e0df-d4e5bc080399"
      },
      "source": [
        "history = model.fit(train_set, epochs=250, callbacks=[callbacks])"
      ],
      "execution_count": 46,
      "outputs": [
        {
          "output_type": "stream",
          "text": [
            "Epoch 1/250\n",
            "148/148 [==============================] - 3s 22ms/step - loss: 8.1260 - mae: 8.6129\n",
            "Epoch 2/250\n",
            "148/148 [==============================] - 3s 22ms/step - loss: 8.1162 - mae: 8.6031\n",
            "Epoch 3/250\n",
            "148/148 [==============================] - 3s 22ms/step - loss: 8.0969 - mae: 8.5837\n",
            "Epoch 4/250\n",
            "148/148 [==============================] - 3s 22ms/step - loss: 8.0908 - mae: 8.5776\n",
            "Epoch 5/250\n",
            "148/148 [==============================] - 3s 22ms/step - loss: 8.0753 - mae: 8.5620\n",
            "Epoch 6/250\n",
            "148/148 [==============================] - 3s 22ms/step - loss: 8.0617 - mae: 8.5485\n",
            "Epoch 7/250\n",
            "148/148 [==============================] - 3s 23ms/step - loss: 8.0353 - mae: 8.5219\n",
            "Epoch 8/250\n",
            "148/148 [==============================] - 3s 21ms/step - loss: 8.0304 - mae: 8.5170\n",
            "Epoch 9/250\n",
            "148/148 [==============================] - 3s 22ms/step - loss: 8.0143 - mae: 8.5010\n",
            "Epoch 10/250\n",
            "148/148 [==============================] - 3s 22ms/step - loss: 8.0112 - mae: 8.4979\n",
            "Epoch 11/250\n",
            "148/148 [==============================] - 3s 22ms/step - loss: 7.9907 - mae: 8.4772\n",
            "Epoch 12/250\n",
            "148/148 [==============================] - 3s 22ms/step - loss: 7.9787 - mae: 8.4654\n",
            "Epoch 13/250\n",
            "148/148 [==============================] - 3s 22ms/step - loss: 7.9726 - mae: 8.4591\n",
            "Epoch 14/250\n",
            "148/148 [==============================] - 3s 22ms/step - loss: 7.9491 - mae: 8.4356\n",
            "Epoch 15/250\n",
            "148/148 [==============================] - 3s 22ms/step - loss: 7.9386 - mae: 8.4251\n",
            "Epoch 16/250\n",
            "148/148 [==============================] - 3s 22ms/step - loss: 7.9399 - mae: 8.4266\n",
            "Epoch 17/250\n",
            "148/148 [==============================] - 3s 22ms/step - loss: 7.9252 - mae: 8.4116\n",
            "Epoch 18/250\n",
            "148/148 [==============================] - 3s 22ms/step - loss: 7.9069 - mae: 8.3933\n",
            "Epoch 19/250\n",
            "148/148 [==============================] - 3s 22ms/step - loss: 7.8879 - mae: 8.3743\n",
            "Epoch 20/250\n",
            "148/148 [==============================] - 3s 22ms/step - loss: 7.8791 - mae: 8.3655\n",
            "Epoch 21/250\n",
            "148/148 [==============================] - 3s 22ms/step - loss: 7.8770 - mae: 8.3635\n",
            "Epoch 22/250\n",
            "148/148 [==============================] - 3s 23ms/step - loss: 7.8569 - mae: 8.3432\n",
            "Epoch 23/250\n",
            "148/148 [==============================] - 3s 22ms/step - loss: 7.8343 - mae: 8.3205\n",
            "Epoch 24/250\n",
            "148/148 [==============================] - 3s 22ms/step - loss: 7.8293 - mae: 8.3156\n",
            "Epoch 25/250\n",
            "148/148 [==============================] - 3s 22ms/step - loss: 7.8159 - mae: 8.3023\n",
            "Epoch 26/250\n",
            "148/148 [==============================] - 3s 22ms/step - loss: 7.8110 - mae: 8.2972\n",
            "Epoch 27/250\n",
            "148/148 [==============================] - 3s 22ms/step - loss: 7.7966 - mae: 8.2828\n",
            "Epoch 28/250\n",
            "148/148 [==============================] - 3s 22ms/step - loss: 7.7887 - mae: 8.2748\n",
            "Epoch 29/250\n",
            "148/148 [==============================] - 3s 22ms/step - loss: 7.7769 - mae: 8.2631\n",
            "Epoch 30/250\n",
            "148/148 [==============================] - 3s 22ms/step - loss: 7.7610 - mae: 8.2472\n",
            "Epoch 31/250\n",
            "148/148 [==============================] - 4s 23ms/step - loss: 7.7492 - mae: 8.2353\n",
            "Epoch 32/250\n",
            "148/148 [==============================] - 3s 22ms/step - loss: 7.7466 - mae: 8.2327\n",
            "Epoch 33/250\n",
            "148/148 [==============================] - 3s 21ms/step - loss: 7.7284 - mae: 8.2146\n",
            "Epoch 34/250\n",
            "148/148 [==============================] - 3s 22ms/step - loss: 7.7217 - mae: 8.2076\n",
            "Epoch 35/250\n",
            "148/148 [==============================] - 3s 22ms/step - loss: 7.7095 - mae: 8.1955\n",
            "Epoch 36/250\n",
            "148/148 [==============================] - 3s 21ms/step - loss: 7.6943 - mae: 8.1803\n",
            "Epoch 37/250\n",
            "148/148 [==============================] - 3s 21ms/step - loss: 7.6864 - mae: 8.1724\n",
            "Epoch 38/250\n",
            "148/148 [==============================] - 3s 22ms/step - loss: 7.6762 - mae: 8.1621\n",
            "Epoch 39/250\n",
            "148/148 [==============================] - 3s 22ms/step - loss: 7.6694 - mae: 8.1553\n",
            "Epoch 40/250\n",
            "148/148 [==============================] - 3s 22ms/step - loss: 7.6581 - mae: 8.1440\n",
            "Epoch 41/250\n",
            "148/148 [==============================] - 3s 21ms/step - loss: 7.6546 - mae: 8.1404\n",
            "Epoch 42/250\n",
            "148/148 [==============================] - 3s 22ms/step - loss: 7.6366 - mae: 8.1225\n",
            "Epoch 43/250\n",
            "148/148 [==============================] - 3s 21ms/step - loss: 7.6303 - mae: 8.1162\n",
            "Epoch 44/250\n",
            "148/148 [==============================] - 3s 22ms/step - loss: 7.6106 - mae: 8.0965\n",
            "Epoch 45/250\n",
            "148/148 [==============================] - 3s 22ms/step - loss: 7.5975 - mae: 8.0832\n",
            "Epoch 46/250\n",
            "148/148 [==============================] - 3s 22ms/step - loss: 7.5929 - mae: 8.0787\n",
            "Epoch 47/250\n",
            "148/148 [==============================] - 3s 22ms/step - loss: 7.5858 - mae: 8.0715\n",
            "Epoch 48/250\n",
            "148/148 [==============================] - 3s 22ms/step - loss: 7.5781 - mae: 8.0640\n",
            "Epoch 49/250\n",
            "148/148 [==============================] - 3s 22ms/step - loss: 7.5647 - mae: 8.0504\n",
            "Epoch 50/250\n",
            "148/148 [==============================] - 3s 22ms/step - loss: 7.5542 - mae: 8.0401\n",
            "Epoch 51/250\n",
            "148/148 [==============================] - 3s 22ms/step - loss: 7.5475 - mae: 8.0333\n",
            "Epoch 52/250\n",
            "148/148 [==============================] - 3s 22ms/step - loss: 7.5405 - mae: 8.0262\n",
            "Epoch 53/250\n",
            "148/148 [==============================] - 3s 23ms/step - loss: 7.5366 - mae: 8.0224\n",
            "Epoch 54/250\n",
            "148/148 [==============================] - 3s 22ms/step - loss: 7.5186 - mae: 8.0043\n",
            "Epoch 55/250\n",
            "148/148 [==============================] - 3s 22ms/step - loss: 7.5192 - mae: 8.0048\n",
            "Epoch 56/250\n",
            "148/148 [==============================] - 3s 22ms/step - loss: 7.5051 - mae: 7.9907\n",
            "Epoch 57/250\n",
            "148/148 [==============================] - 3s 22ms/step - loss: 7.4961 - mae: 7.9816\n",
            "Epoch 58/250\n",
            "148/148 [==============================] - 3s 21ms/step - loss: 7.4867 - mae: 7.9723\n",
            "Epoch 59/250\n",
            "148/148 [==============================] - 3s 22ms/step - loss: 7.4811 - mae: 7.9666\n",
            "Epoch 60/250\n",
            "148/148 [==============================] - 3s 22ms/step - loss: 7.4733 - mae: 7.9588\n",
            "Epoch 61/250\n",
            "148/148 [==============================] - 3s 22ms/step - loss: 7.4588 - mae: 7.9442\n",
            "Epoch 62/250\n",
            "148/148 [==============================] - 3s 22ms/step - loss: 7.4552 - mae: 7.9408\n",
            "Epoch 63/250\n",
            "148/148 [==============================] - 3s 22ms/step - loss: 7.4464 - mae: 7.9319\n",
            "Epoch 64/250\n",
            "148/148 [==============================] - 3s 21ms/step - loss: 7.4379 - mae: 7.9233\n",
            "Epoch 65/250\n",
            "148/148 [==============================] - 3s 22ms/step - loss: 7.4190 - mae: 7.9044\n",
            "Epoch 66/250\n",
            "148/148 [==============================] - 3s 22ms/step - loss: 7.4216 - mae: 7.9070\n",
            "Epoch 67/250\n",
            "148/148 [==============================] - 3s 22ms/step - loss: 7.4180 - mae: 7.9034\n",
            "Epoch 68/250\n",
            "148/148 [==============================] - 3s 21ms/step - loss: 7.4082 - mae: 7.8936\n",
            "Epoch 69/250\n",
            "148/148 [==============================] - 3s 22ms/step - loss: 7.3956 - mae: 7.8809\n",
            "Epoch 70/250\n",
            "148/148 [==============================] - 3s 22ms/step - loss: 7.3936 - mae: 7.8788\n",
            "Epoch 71/250\n",
            "148/148 [==============================] - 3s 21ms/step - loss: 7.3863 - mae: 7.8716\n",
            "Epoch 72/250\n",
            "148/148 [==============================] - 3s 22ms/step - loss: 7.3731 - mae: 7.8583\n",
            "Epoch 73/250\n",
            "148/148 [==============================] - 3s 22ms/step - loss: 7.3691 - mae: 7.8543\n",
            "Epoch 74/250\n",
            "148/148 [==============================] - 3s 21ms/step - loss: 7.3539 - mae: 7.8391\n",
            "Epoch 75/250\n",
            "148/148 [==============================] - 3s 22ms/step - loss: 7.3537 - mae: 7.8388\n",
            "Epoch 76/250\n",
            "148/148 [==============================] - 3s 22ms/step - loss: 7.3487 - mae: 7.8339\n",
            "Epoch 77/250\n",
            "148/148 [==============================] - 3s 22ms/step - loss: 7.3360 - mae: 7.8211\n",
            "Epoch 78/250\n",
            "148/148 [==============================] - 3s 22ms/step - loss: 7.3296 - mae: 7.8146\n",
            "Epoch 79/250\n",
            "148/148 [==============================] - 3s 22ms/step - loss: 7.3245 - mae: 7.8097\n",
            "Epoch 80/250\n",
            "148/148 [==============================] - 3s 22ms/step - loss: 7.3152 - mae: 7.8004\n",
            "Epoch 81/250\n",
            "148/148 [==============================] - 3s 21ms/step - loss: 7.3075 - mae: 7.7926\n",
            "Epoch 82/250\n",
            "148/148 [==============================] - 3s 21ms/step - loss: 7.3039 - mae: 7.7890\n",
            "Epoch 83/250\n",
            "148/148 [==============================] - 3s 21ms/step - loss: 7.2937 - mae: 7.7788\n",
            "Epoch 84/250\n",
            "148/148 [==============================] - 3s 21ms/step - loss: 7.2898 - mae: 7.7749\n",
            "Epoch 85/250\n",
            "148/148 [==============================] - 3s 21ms/step - loss: 7.2810 - mae: 7.7660\n",
            "Epoch 86/250\n",
            "148/148 [==============================] - 3s 22ms/step - loss: 7.2752 - mae: 7.7602\n",
            "Epoch 87/250\n",
            "148/148 [==============================] - 3s 21ms/step - loss: 7.2675 - mae: 7.7526\n",
            "Epoch 88/250\n",
            "148/148 [==============================] - 3s 21ms/step - loss: 7.2663 - mae: 7.7513\n",
            "Epoch 89/250\n",
            "148/148 [==============================] - 3s 21ms/step - loss: 7.2576 - mae: 7.7425\n",
            "Epoch 90/250\n",
            "148/148 [==============================] - 3s 21ms/step - loss: 7.2501 - mae: 7.7351\n",
            "Epoch 91/250\n",
            "148/148 [==============================] - 3s 21ms/step - loss: 7.2525 - mae: 7.7375\n",
            "Epoch 92/250\n",
            "148/148 [==============================] - 3s 23ms/step - loss: 7.2387 - mae: 7.7236\n",
            "Epoch 93/250\n",
            "148/148 [==============================] - 3s 22ms/step - loss: 7.2289 - mae: 7.7138\n",
            "Epoch 94/250\n",
            "148/148 [==============================] - 3s 22ms/step - loss: 7.2272 - mae: 7.7121\n",
            "Epoch 95/250\n",
            "148/148 [==============================] - 3s 22ms/step - loss: 7.2226 - mae: 7.7075\n",
            "Epoch 96/250\n",
            "148/148 [==============================] - 3s 21ms/step - loss: 7.2043 - mae: 7.6891\n",
            "Epoch 97/250\n",
            "148/148 [==============================] - 3s 21ms/step - loss: 7.1996 - mae: 7.6845\n",
            "Epoch 98/250\n",
            "148/148 [==============================] - 3s 21ms/step - loss: 7.2017 - mae: 7.6866\n",
            "Epoch 99/250\n",
            "148/148 [==============================] - 3s 21ms/step - loss: 7.1879 - mae: 7.6728\n",
            "Epoch 100/250\n",
            "148/148 [==============================] - 3s 21ms/step - loss: 7.1887 - mae: 7.6734\n",
            "Epoch 101/250\n",
            "148/148 [==============================] - 3s 22ms/step - loss: 7.1764 - mae: 7.6612\n",
            "Epoch 102/250\n",
            "148/148 [==============================] - 3s 22ms/step - loss: 7.1737 - mae: 7.6584\n",
            "Epoch 103/250\n",
            "148/148 [==============================] - 3s 21ms/step - loss: 7.1608 - mae: 7.6454\n",
            "Epoch 104/250\n",
            "148/148 [==============================] - 3s 22ms/step - loss: 7.1717 - mae: 7.6565\n",
            "Epoch 105/250\n",
            "148/148 [==============================] - 3s 21ms/step - loss: 7.1566 - mae: 7.6412\n",
            "Epoch 106/250\n",
            "148/148 [==============================] - 3s 22ms/step - loss: 7.1473 - mae: 7.6320\n",
            "Epoch 107/250\n",
            "148/148 [==============================] - 3s 21ms/step - loss: 7.1496 - mae: 7.6341\n",
            "Epoch 108/250\n",
            "148/148 [==============================] - 3s 22ms/step - loss: 7.1381 - mae: 7.6226\n",
            "Epoch 109/250\n",
            "148/148 [==============================] - 3s 23ms/step - loss: 7.1340 - mae: 7.6186\n",
            "Epoch 110/250\n",
            "148/148 [==============================] - 4s 23ms/step - loss: 7.1263 - mae: 7.6109\n",
            "Epoch 111/250\n",
            "148/148 [==============================] - 3s 22ms/step - loss: 7.1179 - mae: 7.6024\n",
            "Epoch 112/250\n",
            "148/148 [==============================] - 3s 22ms/step - loss: 7.1147 - mae: 7.5991\n",
            "Epoch 113/250\n",
            "148/148 [==============================] - 3s 22ms/step - loss: 7.1159 - mae: 7.6005\n",
            "Epoch 114/250\n",
            "148/148 [==============================] - 3s 22ms/step - loss: 7.1020 - mae: 7.5865\n",
            "Epoch 115/250\n",
            "148/148 [==============================] - 3s 22ms/step - loss: 7.1074 - mae: 7.5919\n",
            "Epoch 116/250\n",
            "148/148 [==============================] - 3s 22ms/step - loss: 7.0941 - mae: 7.5786\n",
            "Epoch 117/250\n",
            "148/148 [==============================] - 3s 22ms/step - loss: 7.0899 - mae: 7.5743\n",
            "Epoch 118/250\n",
            "148/148 [==============================] - 3s 22ms/step - loss: 7.0836 - mae: 7.5680\n",
            "Epoch 119/250\n",
            "148/148 [==============================] - 3s 22ms/step - loss: 7.0839 - mae: 7.5684\n",
            "Epoch 120/250\n",
            "148/148 [==============================] - 3s 23ms/step - loss: 7.0715 - mae: 7.5559\n",
            "Epoch 121/250\n",
            "148/148 [==============================] - 3s 23ms/step - loss: 7.0703 - mae: 7.5548\n",
            "Epoch 122/250\n",
            "148/148 [==============================] - 3s 22ms/step - loss: 7.0696 - mae: 7.5541\n",
            "Epoch 123/250\n",
            "148/148 [==============================] - 4s 23ms/step - loss: 7.0549 - mae: 7.5392\n",
            "Epoch 124/250\n",
            "148/148 [==============================] - 3s 22ms/step - loss: 7.0506 - mae: 7.5349\n",
            "Epoch 125/250\n",
            "148/148 [==============================] - 3s 22ms/step - loss: 7.0457 - mae: 7.5301\n",
            "Epoch 126/250\n",
            "148/148 [==============================] - 3s 23ms/step - loss: 7.0412 - mae: 7.5256\n",
            "Epoch 127/250\n",
            "148/148 [==============================] - 3s 22ms/step - loss: 7.0335 - mae: 7.5177\n",
            "Epoch 128/250\n",
            "148/148 [==============================] - 3s 23ms/step - loss: 7.0289 - mae: 7.5131\n",
            "Epoch 129/250\n",
            "148/148 [==============================] - 4s 23ms/step - loss: 7.0309 - mae: 7.5152\n",
            "Epoch 130/250\n",
            "148/148 [==============================] - 4s 23ms/step - loss: 7.0197 - mae: 7.5039\n",
            "Epoch 131/250\n",
            "148/148 [==============================] - 3s 22ms/step - loss: 7.0203 - mae: 7.5045\n",
            "Epoch 132/250\n",
            "148/148 [==============================] - 3s 21ms/step - loss: 7.0154 - mae: 7.4996\n",
            "Epoch 133/250\n",
            "148/148 [==============================] - 3s 22ms/step - loss: 7.0154 - mae: 7.4998\n",
            "Epoch 134/250\n",
            "148/148 [==============================] - 3s 21ms/step - loss: 7.0088 - mae: 7.4929\n",
            "Epoch 135/250\n",
            "148/148 [==============================] - 3s 21ms/step - loss: 6.9960 - mae: 7.4802\n",
            "Epoch 136/250\n",
            "148/148 [==============================] - 3s 22ms/step - loss: 6.9949 - mae: 7.4791\n",
            "Epoch 137/250\n",
            "148/148 [==============================] - 3s 22ms/step - loss: 6.9953 - mae: 7.4793\n",
            "Epoch 138/250\n",
            "148/148 [==============================] - 3s 22ms/step - loss: 6.9889 - mae: 7.4731\n",
            "Epoch 139/250\n",
            "148/148 [==============================] - 4s 23ms/step - loss: 6.9841 - mae: 7.4682\n",
            "Epoch 140/250\n",
            "148/148 [==============================] - 3s 22ms/step - loss: 6.9805 - mae: 7.4646\n",
            "Epoch 141/250\n",
            "148/148 [==============================] - 3s 22ms/step - loss: 6.9750 - mae: 7.4591\n",
            "Epoch 142/250\n",
            "148/148 [==============================] - 3s 22ms/step - loss: 6.9682 - mae: 7.4523\n",
            "Epoch 143/250\n",
            "148/148 [==============================] - 3s 22ms/step - loss: 6.9637 - mae: 7.4478\n",
            "Epoch 144/250\n",
            "148/148 [==============================] - 3s 22ms/step - loss: 6.9573 - mae: 7.4414\n",
            "Epoch 145/250\n",
            "148/148 [==============================] - 3s 21ms/step - loss: 6.9598 - mae: 7.4438\n",
            "Epoch 146/250\n",
            "148/148 [==============================] - 4s 23ms/step - loss: 6.9595 - mae: 7.4435\n",
            "Epoch 147/250\n",
            "148/148 [==============================] - 3s 22ms/step - loss: 6.9581 - mae: 7.4421\n",
            "Epoch 148/250\n",
            "148/148 [==============================] - 3s 21ms/step - loss: 6.9479 - mae: 7.4319\n",
            "Epoch 149/250\n",
            "148/148 [==============================] - 3s 21ms/step - loss: 6.9461 - mae: 7.4301\n",
            "Epoch 150/250\n",
            "148/148 [==============================] - 3s 22ms/step - loss: 6.9391 - mae: 7.4230\n",
            "Epoch 151/250\n",
            "148/148 [==============================] - 3s 22ms/step - loss: 6.9339 - mae: 7.4179\n",
            "Epoch 152/250\n",
            "148/148 [==============================] - 3s 22ms/step - loss: 6.9307 - mae: 7.4148\n",
            "Epoch 153/250\n",
            "148/148 [==============================] - 3s 21ms/step - loss: 6.9262 - mae: 7.4101\n",
            "Epoch 154/250\n",
            "148/148 [==============================] - 3s 22ms/step - loss: 6.9209 - mae: 7.4048\n",
            "Epoch 155/250\n",
            "148/148 [==============================] - 3s 22ms/step - loss: 6.9104 - mae: 7.3943\n",
            "Epoch 156/250\n",
            "148/148 [==============================] - 3s 21ms/step - loss: 6.9080 - mae: 7.3917\n",
            "Epoch 157/250\n",
            "148/148 [==============================] - 3s 21ms/step - loss: 6.9128 - mae: 7.3966\n",
            "Epoch 158/250\n",
            "148/148 [==============================] - 3s 21ms/step - loss: 6.9064 - mae: 7.3903\n",
            "Epoch 159/250\n",
            "148/148 [==============================] - 3s 22ms/step - loss: 6.8960 - mae: 7.3799\n",
            "Epoch 160/250\n",
            "148/148 [==============================] - 3s 22ms/step - loss: 6.8973 - mae: 7.3811\n",
            "Epoch 161/250\n",
            "148/148 [==============================] - 3s 22ms/step - loss: 6.8933 - mae: 7.3773\n",
            "Epoch 162/250\n",
            "148/148 [==============================] - 3s 22ms/step - loss: 6.8977 - mae: 7.3816\n",
            "Epoch 163/250\n",
            "148/148 [==============================] - 3s 22ms/step - loss: 6.8858 - mae: 7.3698\n",
            "Epoch 164/250\n",
            "148/148 [==============================] - 3s 22ms/step - loss: 6.8890 - mae: 7.3728\n",
            "Epoch 165/250\n",
            "148/148 [==============================] - 3s 22ms/step - loss: 6.8777 - mae: 7.3615\n",
            "Epoch 166/250\n",
            "148/148 [==============================] - 3s 22ms/step - loss: 6.8699 - mae: 7.3536\n",
            "Epoch 167/250\n",
            "148/148 [==============================] - 3s 22ms/step - loss: 6.8797 - mae: 7.3634\n",
            "Epoch 168/250\n",
            "148/148 [==============================] - 3s 22ms/step - loss: 6.8703 - mae: 7.3541\n",
            "Epoch 169/250\n",
            "148/148 [==============================] - 3s 22ms/step - loss: 6.8668 - mae: 7.3504\n",
            "Epoch 170/250\n",
            "148/148 [==============================] - 3s 22ms/step - loss: 6.8569 - mae: 7.3406\n",
            "Epoch 171/250\n",
            "148/148 [==============================] - 3s 22ms/step - loss: 6.8566 - mae: 7.3403\n",
            "Epoch 172/250\n",
            "148/148 [==============================] - 3s 22ms/step - loss: 6.8606 - mae: 7.3444\n",
            "Epoch 173/250\n",
            "148/148 [==============================] - 3s 22ms/step - loss: 6.8507 - mae: 7.3344\n",
            "Epoch 174/250\n",
            "148/148 [==============================] - 3s 22ms/step - loss: 6.8486 - mae: 7.3323\n",
            "Epoch 175/250\n",
            "148/148 [==============================] - 3s 22ms/step - loss: 6.8486 - mae: 7.3321\n",
            "Epoch 176/250\n",
            "148/148 [==============================] - 3s 22ms/step - loss: 6.8385 - mae: 7.3221\n",
            "Epoch 177/250\n",
            "148/148 [==============================] - 3s 22ms/step - loss: 6.8387 - mae: 7.3224\n",
            "Epoch 178/250\n",
            "148/148 [==============================] - 3s 22ms/step - loss: 6.8429 - mae: 7.3266\n",
            "Epoch 179/250\n",
            "148/148 [==============================] - 3s 22ms/step - loss: 6.8278 - mae: 7.3113\n",
            "Epoch 180/250\n",
            "148/148 [==============================] - 3s 22ms/step - loss: 6.8247 - mae: 7.3082\n",
            "Epoch 181/250\n",
            "148/148 [==============================] - 3s 22ms/step - loss: 6.8238 - mae: 7.3073\n",
            "Epoch 182/250\n",
            "148/148 [==============================] - 3s 22ms/step - loss: 6.8170 - mae: 7.3005\n",
            "Epoch 183/250\n",
            "148/148 [==============================] - 3s 23ms/step - loss: 6.8106 - mae: 7.2941\n",
            "Epoch 184/250\n",
            "148/148 [==============================] - 3s 23ms/step - loss: 6.8190 - mae: 7.3025\n",
            "Epoch 185/250\n",
            "148/148 [==============================] - 3s 23ms/step - loss: 6.8093 - mae: 7.2928\n",
            "Epoch 186/250\n",
            "148/148 [==============================] - 3s 23ms/step - loss: 6.8042 - mae: 7.2878\n",
            "Epoch 187/250\n",
            "148/148 [==============================] - 4s 23ms/step - loss: 6.8026 - mae: 7.2861\n",
            "Epoch 188/250\n",
            "148/148 [==============================] - 4s 23ms/step - loss: 6.8012 - mae: 7.2847\n",
            "Epoch 189/250\n",
            "148/148 [==============================] - 4s 23ms/step - loss: 6.8017 - mae: 7.2852\n",
            "Epoch 190/250\n",
            "148/148 [==============================] - 3s 23ms/step - loss: 6.7925 - mae: 7.2760\n",
            "Epoch 191/250\n",
            "148/148 [==============================] - 3s 23ms/step - loss: 6.7959 - mae: 7.2794\n",
            "Epoch 192/250\n",
            "148/148 [==============================] - 4s 23ms/step - loss: 6.7842 - mae: 7.2676\n",
            "Epoch 193/250\n",
            "148/148 [==============================] - 4s 23ms/step - loss: 6.7870 - mae: 7.2704\n",
            "Epoch 194/250\n",
            "148/148 [==============================] - 3s 23ms/step - loss: 6.7732 - mae: 7.2565\n",
            "Epoch 195/250\n",
            "148/148 [==============================] - 4s 23ms/step - loss: 6.7893 - mae: 7.2727\n",
            "Epoch 196/250\n",
            "148/148 [==============================] - 3s 23ms/step - loss: 6.7724 - mae: 7.2559\n",
            "Epoch 197/250\n",
            "148/148 [==============================] - 4s 23ms/step - loss: 6.7742 - mae: 7.2575\n",
            "Epoch 198/250\n",
            "148/148 [==============================] - 4s 23ms/step - loss: 6.7665 - mae: 7.2499\n",
            "Epoch 199/250\n",
            "148/148 [==============================] - 4s 23ms/step - loss: 6.7732 - mae: 7.2568\n",
            "Epoch 200/250\n",
            "148/148 [==============================] - 3s 23ms/step - loss: 6.7667 - mae: 7.2501\n",
            "Epoch 201/250\n",
            "148/148 [==============================] - 3s 22ms/step - loss: 6.7567 - mae: 7.2400\n",
            "Epoch 202/250\n",
            "148/148 [==============================] - 3s 22ms/step - loss: 6.7625 - mae: 7.2459\n",
            "Epoch 203/250\n",
            "148/148 [==============================] - 3s 22ms/step - loss: 6.7577 - mae: 7.2409\n",
            "Epoch 204/250\n",
            "148/148 [==============================] - 3s 22ms/step - loss: 6.7491 - mae: 7.2324\n",
            "Epoch 205/250\n",
            "148/148 [==============================] - 3s 23ms/step - loss: 6.7534 - mae: 7.2368\n",
            "Epoch 206/250\n",
            "148/148 [==============================] - 3s 23ms/step - loss: 6.7444 - mae: 7.2277\n",
            "Epoch 207/250\n",
            "148/148 [==============================] - 3s 22ms/step - loss: 6.7453 - mae: 7.2288\n",
            "Epoch 208/250\n",
            "148/148 [==============================] - 3s 23ms/step - loss: 6.7410 - mae: 7.2244\n",
            "Epoch 209/250\n",
            "148/148 [==============================] - 3s 22ms/step - loss: 6.7405 - mae: 7.2238\n",
            "Epoch 210/250\n",
            "148/148 [==============================] - 3s 22ms/step - loss: 6.7371 - mae: 7.2204\n",
            "Epoch 211/250\n",
            "148/148 [==============================] - 3s 22ms/step - loss: 6.7340 - mae: 7.2173\n",
            "Epoch 212/250\n",
            "148/148 [==============================] - 3s 22ms/step - loss: 6.7291 - mae: 7.2124\n",
            "Epoch 213/250\n",
            "148/148 [==============================] - 3s 22ms/step - loss: 6.7262 - mae: 7.2095\n",
            "Epoch 214/250\n",
            "148/148 [==============================] - 3s 23ms/step - loss: 6.7290 - mae: 7.2122\n",
            "Epoch 215/250\n",
            "148/148 [==============================] - 3s 22ms/step - loss: 6.7230 - mae: 7.2064\n",
            "Epoch 216/250\n",
            "148/148 [==============================] - 4s 23ms/step - loss: 6.7223 - mae: 7.2056\n",
            "Epoch 217/250\n",
            "148/148 [==============================] - 3s 22ms/step - loss: 6.7131 - mae: 7.1962\n",
            "Epoch 218/250\n",
            "148/148 [==============================] - 3s 23ms/step - loss: 6.7111 - mae: 7.1943\n",
            "Epoch 219/250\n",
            "148/148 [==============================] - 3s 22ms/step - loss: 6.7083 - mae: 7.1915\n",
            "Epoch 220/250\n",
            "148/148 [==============================] - 3s 23ms/step - loss: 6.7053 - mae: 7.1885\n",
            "Epoch 221/250\n",
            "148/148 [==============================] - 3s 23ms/step - loss: 6.7121 - mae: 7.1953\n",
            "Epoch 222/250\n",
            "148/148 [==============================] - 3s 23ms/step - loss: 6.6973 - mae: 7.1805\n",
            "Epoch 223/250\n",
            "148/148 [==============================] - 3s 23ms/step - loss: 6.6983 - mae: 7.1814\n",
            "Epoch 224/250\n",
            "148/148 [==============================] - 3s 22ms/step - loss: 6.6899 - mae: 7.1729\n",
            "Epoch 225/250\n",
            "148/148 [==============================] - 3s 22ms/step - loss: 6.6929 - mae: 7.1760\n",
            "Epoch 226/250\n",
            "148/148 [==============================] - 3s 21ms/step - loss: 6.6955 - mae: 7.1787\n",
            "Epoch 227/250\n",
            "148/148 [==============================] - 3s 22ms/step - loss: 6.6932 - mae: 7.1765\n",
            "Epoch 228/250\n",
            "148/148 [==============================] - 3s 22ms/step - loss: 6.6834 - mae: 7.1665\n",
            "Epoch 229/250\n",
            "148/148 [==============================] - 4s 23ms/step - loss: 6.6874 - mae: 7.1704\n",
            "Epoch 230/250\n",
            "148/148 [==============================] - 3s 22ms/step - loss: 6.6810 - mae: 7.1640\n",
            "Epoch 231/250\n",
            "148/148 [==============================] - 3s 22ms/step - loss: 6.6769 - mae: 7.1601\n",
            "Epoch 232/250\n",
            "148/148 [==============================] - 3s 22ms/step - loss: 6.6804 - mae: 7.1634\n",
            "Epoch 233/250\n",
            "148/148 [==============================] - 3s 22ms/step - loss: 6.6743 - mae: 7.1574\n",
            "Epoch 234/250\n",
            "148/148 [==============================] - 3s 22ms/step - loss: 6.6773 - mae: 7.1604\n",
            "Epoch 235/250\n",
            "148/148 [==============================] - 3s 22ms/step - loss: 6.6682 - mae: 7.1512\n",
            "Epoch 236/250\n",
            "148/148 [==============================] - 3s 22ms/step - loss: 6.6627 - mae: 7.1458\n",
            "Epoch 237/250\n",
            "148/148 [==============================] - 3s 22ms/step - loss: 6.6560 - mae: 7.1390\n",
            "Epoch 238/250\n",
            "148/148 [==============================] - 3s 22ms/step - loss: 6.6642 - mae: 7.1473\n",
            "Epoch 239/250\n",
            "148/148 [==============================] - 3s 22ms/step - loss: 6.6569 - mae: 7.1399\n",
            "Epoch 240/250\n",
            "148/148 [==============================] - 3s 22ms/step - loss: 6.6601 - mae: 7.1431\n",
            "Epoch 241/250\n",
            "148/148 [==============================] - 3s 22ms/step - loss: 6.6552 - mae: 7.1383\n",
            "Epoch 242/250\n",
            "148/148 [==============================] - 3s 23ms/step - loss: 6.6503 - mae: 7.1332\n",
            "Epoch 243/250\n",
            "148/148 [==============================] - 3s 22ms/step - loss: 6.6420 - mae: 7.1249\n",
            "Epoch 244/250\n",
            "148/148 [==============================] - 3s 23ms/step - loss: 6.6431 - mae: 7.1262\n",
            "Epoch 245/250\n",
            "148/148 [==============================] - 3s 23ms/step - loss: 6.6443 - mae: 7.1273\n",
            "Epoch 246/250\n",
            "148/148 [==============================] - 3s 22ms/step - loss: 6.6378 - mae: 7.1209\n",
            "Epoch 247/250\n",
            "148/148 [==============================] - 3s 22ms/step - loss: 6.6358 - mae: 7.1187\n",
            "Epoch 248/250\n",
            "148/148 [==============================] - 3s 23ms/step - loss: 6.6398 - mae: 7.1227\n",
            "Epoch 249/250\n",
            "148/148 [==============================] - 3s 22ms/step - loss: 6.6295 - mae: 7.1125\n",
            "Epoch 250/250\n",
            "148/148 [==============================] - 3s 22ms/step - loss: 6.6288 - mae: 7.1117\n",
            "Done\n"
          ],
          "name": "stdout"
        }
      ]
    }
  ]
}